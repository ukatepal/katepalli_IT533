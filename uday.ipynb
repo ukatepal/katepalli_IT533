{
  "nbformat": 4,
  "nbformat_minor": 0,
  "metadata": {
    "colab": {
      "name": "uday.ipynb",
      "provenance": [],
      "authorship_tag": "ABX9TyP9bu4p+c+yc6X0+86M/RYl",
      "include_colab_link": true
    },
    "kernelspec": {
      "name": "python3",
      "display_name": "Python 3"
    },
    "language_info": {
      "name": "python"
    }
  },
  "cells": [
    {
      "cell_type": "markdown",
      "metadata": {
        "id": "view-in-github",
        "colab_type": "text"
      },
      "source": [
        "<a href=\"https://colab.research.google.com/github/ukatepal/katepalli_IT533/blob/main/uday.ipynb\" target=\"_parent\"><img src=\"https://colab.research.google.com/assets/colab-badge.svg\" alt=\"Open In Colab\"/></a>"
      ]
    },
    {
      "cell_type": "code",
      "execution_count": null,
      "metadata": {
        "id": "DBHSBHHiwuPV"
      },
      "outputs": [],
      "source": [
        "import numpy as np\n",
        "import pandas as pd \n",
        "import matplotlib.pyplot as plt\n"
      ]
    },
    {
      "cell_type": "code",
      "source": [
        "#here I am using the pandas to read the csv fromated data from the gitgub\n",
        "kickdata = pd.read_csv(\"https://raw.githubusercontent.com/ukatepal/katepalli-kickstartIT603/main/kickstarter-projects-201518.csv\",encoding=\"ISO-8859-1\")"
      ],
      "metadata": {
        "id": "yUJJ8E4MxXS2"
      },
      "execution_count": null,
      "outputs": []
    },
    {
      "cell_type": "code",
      "source": [
        "# here I am printing the data we also use the print function\n",
        "kickdata"
      ],
      "metadata": {
        "colab": {
          "base_uri": "https://localhost:8080/",
          "height": 904
        },
        "id": "13P_wytWywxu",
        "outputId": "f67f53bb-2a7b-4432-d7a3-a69402e92471"
      },
      "execution_count": null,
      "outputs": [
        {
          "output_type": "execute_result",
          "data": {
            "text/plain": [
              "                ID                                               name  \\\n",
              "0       1008941852                       The return of BABY UNIVERSE!   \n",
              "1       1013503401                                             Potjie   \n",
              "2       1020446396  Stilt City- A Bungalow Artist Space in The Roc...   \n",
              "3       1028008131       A 2D SideScroller RPG Made by YOU (Canceled)   \n",
              "4       1049544313                                       Balteus Belt   \n",
              "...            ...                                                ...   \n",
              "191580    55596200                         Plateforme de statistiques   \n",
              "191581   872683023  The Lewisham Ledger - a new free local communi...   \n",
              "191582  1036415983                                      Aikyam : Onnu   \n",
              "191583  1916988520                          Back in Black Hills Movie   \n",
              "191584    22387366                                       Nerd Collect   \n",
              "\n",
              "           category main_category currency  deadline    goal  \\\n",
              "0         Immersive       Theater      USD  1/1/2015   15000   \n",
              "1             Drama  Film & Video      GBP  1/1/2015    4500   \n",
              "2        Public Art           Art      USD  1/1/2015   60000   \n",
              "3       Video Games         Games      USD  1/1/2015   20000   \n",
              "4           Apparel       Fashion      USD  1/1/2015    8000   \n",
              "...             ...           ...      ...       ...     ...   \n",
              "191580         Apps    Technology      EUR  3/2/2018    9000   \n",
              "191581        Print    Journalism      GBP  3/2/2018    5000   \n",
              "191582        Music         Music      USD  3/3/2018   10000   \n",
              "191583        Drama  Film & Video      USD  3/3/2018    5500   \n",
              "191584         Apps    Technology      GBP  3/3/2018  150000   \n",
              "\n",
              "                launched   pledged       state  backers country  usd pledged  \\\n",
              "0        12/4/2014 21:37  11880.18      failed       46      US     11880.18   \n",
              "1        12/2/2014 18:10   4843.00  successful       67      GB      7560.32   \n",
              "2       11/19/2014 23:14  18087.00    canceled      204      US     18087.00   \n",
              "3        12/2/2014 22:02      9.00    canceled        2      US         9.00   \n",
              "4       11/18/2014 21:17   1563.00      failed       16      US      1563.00   \n",
              "...                  ...       ...         ...      ...     ...          ...   \n",
              "191580    1/1/2018 15:40      0.00        live        0      FR         0.00   \n",
              "191581    1/1/2018 21:20    350.00        live        7      GB       364.86   \n",
              "191582     1/2/2018 8:11    174.00        live        3      US       174.00   \n",
              "191583     1/2/2018 1:16      0.00        live        0      US         0.00   \n",
              "191584     1/2/2018 3:26      0.00        live        0      GB         0.00   \n",
              "\n",
              "        usd_pledged_real  usd_goal_real  \n",
              "0               11880.18       15000.00  \n",
              "1                7477.46        6947.88  \n",
              "2               18087.00       60000.00  \n",
              "3                   9.00       20000.00  \n",
              "4                1563.00        8000.00  \n",
              "...                  ...            ...  \n",
              "191580              0.00       10923.26  \n",
              "191581            477.39        6819.89  \n",
              "191582            174.00       10000.00  \n",
              "191583              0.00        5500.00  \n",
              "191584              0.00      204596.60  \n",
              "\n",
              "[191585 rows x 15 columns]"
            ],
            "text/html": [
              "\n",
              "  <div id=\"df-f6073c59-6a9b-4bf1-a001-60d74c4e2436\">\n",
              "    <div class=\"colab-df-container\">\n",
              "      <div>\n",
              "<style scoped>\n",
              "    .dataframe tbody tr th:only-of-type {\n",
              "        vertical-align: middle;\n",
              "    }\n",
              "\n",
              "    .dataframe tbody tr th {\n",
              "        vertical-align: top;\n",
              "    }\n",
              "\n",
              "    .dataframe thead th {\n",
              "        text-align: right;\n",
              "    }\n",
              "</style>\n",
              "<table border=\"1\" class=\"dataframe\">\n",
              "  <thead>\n",
              "    <tr style=\"text-align: right;\">\n",
              "      <th></th>\n",
              "      <th>ID</th>\n",
              "      <th>name</th>\n",
              "      <th>category</th>\n",
              "      <th>main_category</th>\n",
              "      <th>currency</th>\n",
              "      <th>deadline</th>\n",
              "      <th>goal</th>\n",
              "      <th>launched</th>\n",
              "      <th>pledged</th>\n",
              "      <th>state</th>\n",
              "      <th>backers</th>\n",
              "      <th>country</th>\n",
              "      <th>usd pledged</th>\n",
              "      <th>usd_pledged_real</th>\n",
              "      <th>usd_goal_real</th>\n",
              "    </tr>\n",
              "  </thead>\n",
              "  <tbody>\n",
              "    <tr>\n",
              "      <th>0</th>\n",
              "      <td>1008941852</td>\n",
              "      <td>The return of BABY UNIVERSE!</td>\n",
              "      <td>Immersive</td>\n",
              "      <td>Theater</td>\n",
              "      <td>USD</td>\n",
              "      <td>1/1/2015</td>\n",
              "      <td>15000</td>\n",
              "      <td>12/4/2014 21:37</td>\n",
              "      <td>11880.18</td>\n",
              "      <td>failed</td>\n",
              "      <td>46</td>\n",
              "      <td>US</td>\n",
              "      <td>11880.18</td>\n",
              "      <td>11880.18</td>\n",
              "      <td>15000.00</td>\n",
              "    </tr>\n",
              "    <tr>\n",
              "      <th>1</th>\n",
              "      <td>1013503401</td>\n",
              "      <td>Potjie</td>\n",
              "      <td>Drama</td>\n",
              "      <td>Film &amp; Video</td>\n",
              "      <td>GBP</td>\n",
              "      <td>1/1/2015</td>\n",
              "      <td>4500</td>\n",
              "      <td>12/2/2014 18:10</td>\n",
              "      <td>4843.00</td>\n",
              "      <td>successful</td>\n",
              "      <td>67</td>\n",
              "      <td>GB</td>\n",
              "      <td>7560.32</td>\n",
              "      <td>7477.46</td>\n",
              "      <td>6947.88</td>\n",
              "    </tr>\n",
              "    <tr>\n",
              "      <th>2</th>\n",
              "      <td>1020446396</td>\n",
              "      <td>Stilt City- A Bungalow Artist Space in The Roc...</td>\n",
              "      <td>Public Art</td>\n",
              "      <td>Art</td>\n",
              "      <td>USD</td>\n",
              "      <td>1/1/2015</td>\n",
              "      <td>60000</td>\n",
              "      <td>11/19/2014 23:14</td>\n",
              "      <td>18087.00</td>\n",
              "      <td>canceled</td>\n",
              "      <td>204</td>\n",
              "      <td>US</td>\n",
              "      <td>18087.00</td>\n",
              "      <td>18087.00</td>\n",
              "      <td>60000.00</td>\n",
              "    </tr>\n",
              "    <tr>\n",
              "      <th>3</th>\n",
              "      <td>1028008131</td>\n",
              "      <td>A 2D SideScroller RPG Made by YOU (Canceled)</td>\n",
              "      <td>Video Games</td>\n",
              "      <td>Games</td>\n",
              "      <td>USD</td>\n",
              "      <td>1/1/2015</td>\n",
              "      <td>20000</td>\n",
              "      <td>12/2/2014 22:02</td>\n",
              "      <td>9.00</td>\n",
              "      <td>canceled</td>\n",
              "      <td>2</td>\n",
              "      <td>US</td>\n",
              "      <td>9.00</td>\n",
              "      <td>9.00</td>\n",
              "      <td>20000.00</td>\n",
              "    </tr>\n",
              "    <tr>\n",
              "      <th>4</th>\n",
              "      <td>1049544313</td>\n",
              "      <td>Balteus Belt</td>\n",
              "      <td>Apparel</td>\n",
              "      <td>Fashion</td>\n",
              "      <td>USD</td>\n",
              "      <td>1/1/2015</td>\n",
              "      <td>8000</td>\n",
              "      <td>11/18/2014 21:17</td>\n",
              "      <td>1563.00</td>\n",
              "      <td>failed</td>\n",
              "      <td>16</td>\n",
              "      <td>US</td>\n",
              "      <td>1563.00</td>\n",
              "      <td>1563.00</td>\n",
              "      <td>8000.00</td>\n",
              "    </tr>\n",
              "    <tr>\n",
              "      <th>...</th>\n",
              "      <td>...</td>\n",
              "      <td>...</td>\n",
              "      <td>...</td>\n",
              "      <td>...</td>\n",
              "      <td>...</td>\n",
              "      <td>...</td>\n",
              "      <td>...</td>\n",
              "      <td>...</td>\n",
              "      <td>...</td>\n",
              "      <td>...</td>\n",
              "      <td>...</td>\n",
              "      <td>...</td>\n",
              "      <td>...</td>\n",
              "      <td>...</td>\n",
              "      <td>...</td>\n",
              "    </tr>\n",
              "    <tr>\n",
              "      <th>191580</th>\n",
              "      <td>55596200</td>\n",
              "      <td>Plateforme de statistiques</td>\n",
              "      <td>Apps</td>\n",
              "      <td>Technology</td>\n",
              "      <td>EUR</td>\n",
              "      <td>3/2/2018</td>\n",
              "      <td>9000</td>\n",
              "      <td>1/1/2018 15:40</td>\n",
              "      <td>0.00</td>\n",
              "      <td>live</td>\n",
              "      <td>0</td>\n",
              "      <td>FR</td>\n",
              "      <td>0.00</td>\n",
              "      <td>0.00</td>\n",
              "      <td>10923.26</td>\n",
              "    </tr>\n",
              "    <tr>\n",
              "      <th>191581</th>\n",
              "      <td>872683023</td>\n",
              "      <td>The Lewisham Ledger - a new free local communi...</td>\n",
              "      <td>Print</td>\n",
              "      <td>Journalism</td>\n",
              "      <td>GBP</td>\n",
              "      <td>3/2/2018</td>\n",
              "      <td>5000</td>\n",
              "      <td>1/1/2018 21:20</td>\n",
              "      <td>350.00</td>\n",
              "      <td>live</td>\n",
              "      <td>7</td>\n",
              "      <td>GB</td>\n",
              "      <td>364.86</td>\n",
              "      <td>477.39</td>\n",
              "      <td>6819.89</td>\n",
              "    </tr>\n",
              "    <tr>\n",
              "      <th>191582</th>\n",
              "      <td>1036415983</td>\n",
              "      <td>Aikyam : Onnu</td>\n",
              "      <td>Music</td>\n",
              "      <td>Music</td>\n",
              "      <td>USD</td>\n",
              "      <td>3/3/2018</td>\n",
              "      <td>10000</td>\n",
              "      <td>1/2/2018 8:11</td>\n",
              "      <td>174.00</td>\n",
              "      <td>live</td>\n",
              "      <td>3</td>\n",
              "      <td>US</td>\n",
              "      <td>174.00</td>\n",
              "      <td>174.00</td>\n",
              "      <td>10000.00</td>\n",
              "    </tr>\n",
              "    <tr>\n",
              "      <th>191583</th>\n",
              "      <td>1916988520</td>\n",
              "      <td>Back in Black Hills Movie</td>\n",
              "      <td>Drama</td>\n",
              "      <td>Film &amp; Video</td>\n",
              "      <td>USD</td>\n",
              "      <td>3/3/2018</td>\n",
              "      <td>5500</td>\n",
              "      <td>1/2/2018 1:16</td>\n",
              "      <td>0.00</td>\n",
              "      <td>live</td>\n",
              "      <td>0</td>\n",
              "      <td>US</td>\n",
              "      <td>0.00</td>\n",
              "      <td>0.00</td>\n",
              "      <td>5500.00</td>\n",
              "    </tr>\n",
              "    <tr>\n",
              "      <th>191584</th>\n",
              "      <td>22387366</td>\n",
              "      <td>Nerd Collect</td>\n",
              "      <td>Apps</td>\n",
              "      <td>Technology</td>\n",
              "      <td>GBP</td>\n",
              "      <td>3/3/2018</td>\n",
              "      <td>150000</td>\n",
              "      <td>1/2/2018 3:26</td>\n",
              "      <td>0.00</td>\n",
              "      <td>live</td>\n",
              "      <td>0</td>\n",
              "      <td>GB</td>\n",
              "      <td>0.00</td>\n",
              "      <td>0.00</td>\n",
              "      <td>204596.60</td>\n",
              "    </tr>\n",
              "  </tbody>\n",
              "</table>\n",
              "<p>191585 rows × 15 columns</p>\n",
              "</div>\n",
              "      <button class=\"colab-df-convert\" onclick=\"convertToInteractive('df-f6073c59-6a9b-4bf1-a001-60d74c4e2436')\"\n",
              "              title=\"Convert this dataframe to an interactive table.\"\n",
              "              style=\"display:none;\">\n",
              "        \n",
              "  <svg xmlns=\"http://www.w3.org/2000/svg\" height=\"24px\"viewBox=\"0 0 24 24\"\n",
              "       width=\"24px\">\n",
              "    <path d=\"M0 0h24v24H0V0z\" fill=\"none\"/>\n",
              "    <path d=\"M18.56 5.44l.94 2.06.94-2.06 2.06-.94-2.06-.94-.94-2.06-.94 2.06-2.06.94zm-11 1L8.5 8.5l.94-2.06 2.06-.94-2.06-.94L8.5 2.5l-.94 2.06-2.06.94zm10 10l.94 2.06.94-2.06 2.06-.94-2.06-.94-.94-2.06-.94 2.06-2.06.94z\"/><path d=\"M17.41 7.96l-1.37-1.37c-.4-.4-.92-.59-1.43-.59-.52 0-1.04.2-1.43.59L10.3 9.45l-7.72 7.72c-.78.78-.78 2.05 0 2.83L4 21.41c.39.39.9.59 1.41.59.51 0 1.02-.2 1.41-.59l7.78-7.78 2.81-2.81c.8-.78.8-2.07 0-2.86zM5.41 20L4 18.59l7.72-7.72 1.47 1.35L5.41 20z\"/>\n",
              "  </svg>\n",
              "      </button>\n",
              "      \n",
              "  <style>\n",
              "    .colab-df-container {\n",
              "      display:flex;\n",
              "      flex-wrap:wrap;\n",
              "      gap: 12px;\n",
              "    }\n",
              "\n",
              "    .colab-df-convert {\n",
              "      background-color: #E8F0FE;\n",
              "      border: none;\n",
              "      border-radius: 50%;\n",
              "      cursor: pointer;\n",
              "      display: none;\n",
              "      fill: #1967D2;\n",
              "      height: 32px;\n",
              "      padding: 0 0 0 0;\n",
              "      width: 32px;\n",
              "    }\n",
              "\n",
              "    .colab-df-convert:hover {\n",
              "      background-color: #E2EBFA;\n",
              "      box-shadow: 0px 1px 2px rgba(60, 64, 67, 0.3), 0px 1px 3px 1px rgba(60, 64, 67, 0.15);\n",
              "      fill: #174EA6;\n",
              "    }\n",
              "\n",
              "    [theme=dark] .colab-df-convert {\n",
              "      background-color: #3B4455;\n",
              "      fill: #D2E3FC;\n",
              "    }\n",
              "\n",
              "    [theme=dark] .colab-df-convert:hover {\n",
              "      background-color: #434B5C;\n",
              "      box-shadow: 0px 1px 3px 1px rgba(0, 0, 0, 0.15);\n",
              "      filter: drop-shadow(0px 1px 2px rgba(0, 0, 0, 0.3));\n",
              "      fill: #FFFFFF;\n",
              "    }\n",
              "  </style>\n",
              "\n",
              "      <script>\n",
              "        const buttonEl =\n",
              "          document.querySelector('#df-f6073c59-6a9b-4bf1-a001-60d74c4e2436 button.colab-df-convert');\n",
              "        buttonEl.style.display =\n",
              "          google.colab.kernel.accessAllowed ? 'block' : 'none';\n",
              "\n",
              "        async function convertToInteractive(key) {\n",
              "          const element = document.querySelector('#df-f6073c59-6a9b-4bf1-a001-60d74c4e2436');\n",
              "          const dataTable =\n",
              "            await google.colab.kernel.invokeFunction('convertToInteractive',\n",
              "                                                     [key], {});\n",
              "          if (!dataTable) return;\n",
              "\n",
              "          const docLinkHtml = 'Like what you see? Visit the ' +\n",
              "            '<a target=\"_blank\" href=https://colab.research.google.com/notebooks/data_table.ipynb>data table notebook</a>'\n",
              "            + ' to learn more about interactive tables.';\n",
              "          element.innerHTML = '';\n",
              "          dataTable['output_type'] = 'display_data';\n",
              "          await google.colab.output.renderOutput(dataTable, element);\n",
              "          const docLink = document.createElement('div');\n",
              "          docLink.innerHTML = docLinkHtml;\n",
              "          element.appendChild(docLink);\n",
              "        }\n",
              "      </script>\n",
              "    </div>\n",
              "  </div>\n",
              "  "
            ]
          },
          "metadata": {},
          "execution_count": 5
        }
      ]
    },
    {
      "cell_type": "code",
      "source": [
        "kickdata.describe(include=['O'])"
      ],
      "metadata": {
        "colab": {
          "base_uri": "https://localhost:8080/",
          "height": 175
        },
        "id": "_Lvd4Q4ay5iq",
        "outputId": "af4a239b-b158-428e-d92e-c5adbe0f0438"
      },
      "execution_count": null,
      "outputs": [
        {
          "output_type": "execute_result",
          "data": {
            "text/plain": [
              "                            name        category main_category currency  \\\n",
              "count                     191584          191585        191585   191585   \n",
              "unique                    190345             159            15       14   \n",
              "top     New EP/Music Development  Product Design    Technology      USD   \n",
              "freq                          41           14212         23421   130112   \n",
              "\n",
              "        deadline         launched   state country  \n",
              "count     191585           191585  191585  191585  \n",
              "unique      1158           174380       6      23  \n",
              "top     5/1/2015  6/20/2017 16:00  failed      US  \n",
              "freq         489               15  102667  127875  "
            ],
            "text/html": [
              "\n",
              "  <div id=\"df-f32acaae-b9b2-41de-9b53-7798d9fc8e40\">\n",
              "    <div class=\"colab-df-container\">\n",
              "      <div>\n",
              "<style scoped>\n",
              "    .dataframe tbody tr th:only-of-type {\n",
              "        vertical-align: middle;\n",
              "    }\n",
              "\n",
              "    .dataframe tbody tr th {\n",
              "        vertical-align: top;\n",
              "    }\n",
              "\n",
              "    .dataframe thead th {\n",
              "        text-align: right;\n",
              "    }\n",
              "</style>\n",
              "<table border=\"1\" class=\"dataframe\">\n",
              "  <thead>\n",
              "    <tr style=\"text-align: right;\">\n",
              "      <th></th>\n",
              "      <th>name</th>\n",
              "      <th>category</th>\n",
              "      <th>main_category</th>\n",
              "      <th>currency</th>\n",
              "      <th>deadline</th>\n",
              "      <th>launched</th>\n",
              "      <th>state</th>\n",
              "      <th>country</th>\n",
              "    </tr>\n",
              "  </thead>\n",
              "  <tbody>\n",
              "    <tr>\n",
              "      <th>count</th>\n",
              "      <td>191584</td>\n",
              "      <td>191585</td>\n",
              "      <td>191585</td>\n",
              "      <td>191585</td>\n",
              "      <td>191585</td>\n",
              "      <td>191585</td>\n",
              "      <td>191585</td>\n",
              "      <td>191585</td>\n",
              "    </tr>\n",
              "    <tr>\n",
              "      <th>unique</th>\n",
              "      <td>190345</td>\n",
              "      <td>159</td>\n",
              "      <td>15</td>\n",
              "      <td>14</td>\n",
              "      <td>1158</td>\n",
              "      <td>174380</td>\n",
              "      <td>6</td>\n",
              "      <td>23</td>\n",
              "    </tr>\n",
              "    <tr>\n",
              "      <th>top</th>\n",
              "      <td>New EP/Music Development</td>\n",
              "      <td>Product Design</td>\n",
              "      <td>Technology</td>\n",
              "      <td>USD</td>\n",
              "      <td>5/1/2015</td>\n",
              "      <td>6/20/2017 16:00</td>\n",
              "      <td>failed</td>\n",
              "      <td>US</td>\n",
              "    </tr>\n",
              "    <tr>\n",
              "      <th>freq</th>\n",
              "      <td>41</td>\n",
              "      <td>14212</td>\n",
              "      <td>23421</td>\n",
              "      <td>130112</td>\n",
              "      <td>489</td>\n",
              "      <td>15</td>\n",
              "      <td>102667</td>\n",
              "      <td>127875</td>\n",
              "    </tr>\n",
              "  </tbody>\n",
              "</table>\n",
              "</div>\n",
              "      <button class=\"colab-df-convert\" onclick=\"convertToInteractive('df-f32acaae-b9b2-41de-9b53-7798d9fc8e40')\"\n",
              "              title=\"Convert this dataframe to an interactive table.\"\n",
              "              style=\"display:none;\">\n",
              "        \n",
              "  <svg xmlns=\"http://www.w3.org/2000/svg\" height=\"24px\"viewBox=\"0 0 24 24\"\n",
              "       width=\"24px\">\n",
              "    <path d=\"M0 0h24v24H0V0z\" fill=\"none\"/>\n",
              "    <path d=\"M18.56 5.44l.94 2.06.94-2.06 2.06-.94-2.06-.94-.94-2.06-.94 2.06-2.06.94zm-11 1L8.5 8.5l.94-2.06 2.06-.94-2.06-.94L8.5 2.5l-.94 2.06-2.06.94zm10 10l.94 2.06.94-2.06 2.06-.94-2.06-.94-.94-2.06-.94 2.06-2.06.94z\"/><path d=\"M17.41 7.96l-1.37-1.37c-.4-.4-.92-.59-1.43-.59-.52 0-1.04.2-1.43.59L10.3 9.45l-7.72 7.72c-.78.78-.78 2.05 0 2.83L4 21.41c.39.39.9.59 1.41.59.51 0 1.02-.2 1.41-.59l7.78-7.78 2.81-2.81c.8-.78.8-2.07 0-2.86zM5.41 20L4 18.59l7.72-7.72 1.47 1.35L5.41 20z\"/>\n",
              "  </svg>\n",
              "      </button>\n",
              "      \n",
              "  <style>\n",
              "    .colab-df-container {\n",
              "      display:flex;\n",
              "      flex-wrap:wrap;\n",
              "      gap: 12px;\n",
              "    }\n",
              "\n",
              "    .colab-df-convert {\n",
              "      background-color: #E8F0FE;\n",
              "      border: none;\n",
              "      border-radius: 50%;\n",
              "      cursor: pointer;\n",
              "      display: none;\n",
              "      fill: #1967D2;\n",
              "      height: 32px;\n",
              "      padding: 0 0 0 0;\n",
              "      width: 32px;\n",
              "    }\n",
              "\n",
              "    .colab-df-convert:hover {\n",
              "      background-color: #E2EBFA;\n",
              "      box-shadow: 0px 1px 2px rgba(60, 64, 67, 0.3), 0px 1px 3px 1px rgba(60, 64, 67, 0.15);\n",
              "      fill: #174EA6;\n",
              "    }\n",
              "\n",
              "    [theme=dark] .colab-df-convert {\n",
              "      background-color: #3B4455;\n",
              "      fill: #D2E3FC;\n",
              "    }\n",
              "\n",
              "    [theme=dark] .colab-df-convert:hover {\n",
              "      background-color: #434B5C;\n",
              "      box-shadow: 0px 1px 3px 1px rgba(0, 0, 0, 0.15);\n",
              "      filter: drop-shadow(0px 1px 2px rgba(0, 0, 0, 0.3));\n",
              "      fill: #FFFFFF;\n",
              "    }\n",
              "  </style>\n",
              "\n",
              "      <script>\n",
              "        const buttonEl =\n",
              "          document.querySelector('#df-f32acaae-b9b2-41de-9b53-7798d9fc8e40 button.colab-df-convert');\n",
              "        buttonEl.style.display =\n",
              "          google.colab.kernel.accessAllowed ? 'block' : 'none';\n",
              "\n",
              "        async function convertToInteractive(key) {\n",
              "          const element = document.querySelector('#df-f32acaae-b9b2-41de-9b53-7798d9fc8e40');\n",
              "          const dataTable =\n",
              "            await google.colab.kernel.invokeFunction('convertToInteractive',\n",
              "                                                     [key], {});\n",
              "          if (!dataTable) return;\n",
              "\n",
              "          const docLinkHtml = 'Like what you see? Visit the ' +\n",
              "            '<a target=\"_blank\" href=https://colab.research.google.com/notebooks/data_table.ipynb>data table notebook</a>'\n",
              "            + ' to learn more about interactive tables.';\n",
              "          element.innerHTML = '';\n",
              "          dataTable['output_type'] = 'display_data';\n",
              "          await google.colab.output.renderOutput(dataTable, element);\n",
              "          const docLink = document.createElement('div');\n",
              "          docLink.innerHTML = docLinkHtml;\n",
              "          element.appendChild(docLink);\n",
              "        }\n",
              "      </script>\n",
              "    </div>\n",
              "  </div>\n",
              "  "
            ]
          },
          "metadata": {},
          "execution_count": 6
        }
      ]
    },
    {
      "cell_type": "code",
      "source": [
        "kick = kickdata.dropna(inplace = True)"
      ],
      "metadata": {
        "id": "Zo8QtLkUy_x4"
      },
      "execution_count": null,
      "outputs": []
    },
    {
      "cell_type": "code",
      "source": [
        "print(kick)"
      ],
      "metadata": {
        "colab": {
          "base_uri": "https://localhost:8080/"
        },
        "id": "PzPvAJPkzHG6",
        "outputId": "8e2e2781-a16d-4cb1-9825-2e016c89b902"
      },
      "execution_count": null,
      "outputs": [
        {
          "output_type": "stream",
          "name": "stdout",
          "text": [
            "None\n"
          ]
        }
      ]
    },
    {
      "cell_type": "code",
      "source": [
        "# We can also use shape, The shape attribute of pandas. DataFrame stores the number of rows and columns as a tuple\n",
        "kickdata.shape"
      ],
      "metadata": {
        "colab": {
          "base_uri": "https://localhost:8080/"
        },
        "id": "76bSsbvAzvYg",
        "outputId": "0bb6479f-2267-4ddb-affb-55f4ad204775"
      },
      "execution_count": null,
      "outputs": [
        {
          "output_type": "execute_result",
          "data": {
            "text/plain": [
              "(188445, 15)"
            ]
          },
          "metadata": {},
          "execution_count": 12
        }
      ]
    },
    {
      "cell_type": "code",
      "source": [
        "print(kickdata.info())"
      ],
      "metadata": {
        "colab": {
          "base_uri": "https://localhost:8080/"
        },
        "id": "HKomsUmwz1OO",
        "outputId": "f0d0e430-b45d-4426-f6c1-c509cb53222c"
      },
      "execution_count": null,
      "outputs": [
        {
          "output_type": "stream",
          "name": "stdout",
          "text": [
            "<class 'pandas.core.frame.DataFrame'>\n",
            "Int64Index: 188445 entries, 0 to 191584\n",
            "Data columns (total 15 columns):\n",
            " #   Column            Non-Null Count   Dtype  \n",
            "---  ------            --------------   -----  \n",
            " 0   ID                188445 non-null  int64  \n",
            " 1   name              188445 non-null  object \n",
            " 2   category          188445 non-null  object \n",
            " 3   main_category     188445 non-null  object \n",
            " 4   currency          188445 non-null  object \n",
            " 5   deadline          188445 non-null  object \n",
            " 6   goal              188445 non-null  int64  \n",
            " 7   launched          188445 non-null  object \n",
            " 8   pledged           188445 non-null  float64\n",
            " 9   state             188445 non-null  object \n",
            " 10  backers           188445 non-null  int64  \n",
            " 11  country           188445 non-null  object \n",
            " 12  usd pledged       188445 non-null  float64\n",
            " 13  usd_pledged_real  188445 non-null  float64\n",
            " 14  usd_goal_real     188445 non-null  float64\n",
            "dtypes: float64(4), int64(3), object(8)\n",
            "memory usage: 23.0+ MB\n",
            "None\n"
          ]
        }
      ]
    },
    {
      "cell_type": "code",
      "source": [
        "# dtypes attribute return the dtypes in the DataFrame. It returns a Series with the data type of each column\n",
        "kickdata.dtypes"
      ],
      "metadata": {
        "colab": {
          "base_uri": "https://localhost:8080/"
        },
        "id": "jMPLRFFB0ApS",
        "outputId": "f97eebd0-94c0-4633-fa32-0fb500012c37"
      },
      "execution_count": null,
      "outputs": [
        {
          "output_type": "execute_result",
          "data": {
            "text/plain": [
              "ID                    int64\n",
              "name                 object\n",
              "category             object\n",
              "main_category        object\n",
              "currency             object\n",
              "deadline             object\n",
              "goal                  int64\n",
              "launched             object\n",
              "pledged             float64\n",
              "state                object\n",
              "backers               int64\n",
              "country              object\n",
              "usd pledged         float64\n",
              "usd_pledged_real    float64\n",
              "usd_goal_real       float64\n",
              "dtype: object"
            ]
          },
          "metadata": {},
          "execution_count": 14
        }
      ]
    },
    {
      "cell_type": "code",
      "source": [
        "kickdata.goal.min()"
      ],
      "metadata": {
        "colab": {
          "base_uri": "https://localhost:8080/"
        },
        "id": "xGaOGaNx1dqm",
        "outputId": "d2ccb6e7-3de2-41e4-b76b-5fb62e713d89"
      },
      "execution_count": null,
      "outputs": [
        {
          "output_type": "execute_result",
          "data": {
            "text/plain": [
              "1"
            ]
          },
          "metadata": {},
          "execution_count": 15
        }
      ]
    },
    {
      "cell_type": "code",
      "source": [
        "kickdata.goal.max()"
      ],
      "metadata": {
        "colab": {
          "base_uri": "https://localhost:8080/"
        },
        "id": "7k6f_9CP3efy",
        "outputId": "6d3f11c6-4445-4b91-89bb-09cc74b40292"
      },
      "execution_count": null,
      "outputs": [
        {
          "output_type": "execute_result",
          "data": {
            "text/plain": [
              "100000000"
            ]
          },
          "metadata": {},
          "execution_count": 16
        }
      ]
    },
    {
      "cell_type": "code",
      "source": [
        "kickdata.goal.mean()"
      ],
      "metadata": {
        "colab": {
          "base_uri": "https://localhost:8080/"
        },
        "id": "P0oXS3TD3hgr",
        "outputId": "e96c9444-7d6e-4f94-e38d-264b06a1d7b7"
      },
      "execution_count": null,
      "outputs": [
        {
          "output_type": "execute_result",
          "data": {
            "text/plain": [
              "69065.70761760726"
            ]
          },
          "metadata": {},
          "execution_count": 17
        }
      ]
    },
    {
      "cell_type": "code",
      "source": [
        "kickdata.goal.std()"
      ],
      "metadata": {
        "colab": {
          "base_uri": "https://localhost:8080/"
        },
        "id": "ip2qQneW3jvW",
        "outputId": "89487ffb-6c58-4d4a-f4af-06be70d89ad0"
      },
      "execution_count": null,
      "outputs": [
        {
          "output_type": "execute_result",
          "data": {
            "text/plain": [
              "1502802.8946445708"
            ]
          },
          "metadata": {},
          "execution_count": 30
        }
      ]
    },
    {
      "cell_type": "code",
      "source": [
        "kickdata.boxplot(['goal'])"
      ],
      "metadata": {
        "colab": {
          "base_uri": "https://localhost:8080/",
          "height": 293
        },
        "id": "GOCFpbtl4JhO",
        "outputId": "5da8b692-d7fe-4203-c2c5-be81442fe68c"
      },
      "execution_count": null,
      "outputs": [
        {
          "output_type": "execute_result",
          "data": {
            "text/plain": [
              "<matplotlib.axes._subplots.AxesSubplot at 0x7f3974b301d0>"
            ]
          },
          "metadata": {},
          "execution_count": 19
        },
        {
          "output_type": "display_data",
          "data": {
            "text/plain": [
              "<Figure size 432x288 with 1 Axes>"
            ],
            "image/png": "[encoded data removed]"
          },
          "metadata": {
            "needs_background": "light"
          }
        }
      ]
    },
    {
      "cell_type": "code",
      "source": [
        "kickdata.backers.min()"
      ],
      "metadata": {
        "colab": {
          "base_uri": "https://localhost:8080/"
        },
        "id": "2ckZgqmO4QmP",
        "outputId": "0cdff08d-2dce-4795-f726-b5cae148964a"
      },
      "execution_count": null,
      "outputs": [
        {
          "output_type": "execute_result",
          "data": {
            "text/plain": [
              "0"
            ]
          },
          "metadata": {},
          "execution_count": 20
        }
      ]
    },
    {
      "cell_type": "code",
      "source": [
        "kickdata.backers.max()"
      ],
      "metadata": {
        "colab": {
          "base_uri": "https://localhost:8080/"
        },
        "id": "QX89c7Sg4ZDQ",
        "outputId": "665fc0bb-0e90-4871-fd13-e5105e607047"
      },
      "execution_count": null,
      "outputs": [
        {
          "output_type": "execute_result",
          "data": {
            "text/plain": [
              "219382"
            ]
          },
          "metadata": {},
          "execution_count": 21
        }
      ]
    },
    {
      "cell_type": "code",
      "source": [
        "kickdata.backers.mean()"
      ],
      "metadata": {
        "colab": {
          "base_uri": "https://localhost:8080/"
        },
        "id": "HvCH5xmQ4dvV",
        "outputId": "9236949b-1006-4a2c-e0d8-c2f6e599c87f"
      },
      "execution_count": null,
      "outputs": [
        {
          "output_type": "execute_result",
          "data": {
            "text/plain": [
              "114.75870413117886"
            ]
          },
          "metadata": {},
          "execution_count": 22
        }
      ]
    },
    {
      "cell_type": "code",
      "source": [
        "kickdata.backers.median()"
      ],
      "metadata": {
        "colab": {
          "base_uri": "https://localhost:8080/"
        },
        "id": "tszsOubw4lae",
        "outputId": "d79a5539-f99e-40c7-f71a-41596cfac56a"
      },
      "execution_count": null,
      "outputs": [
        {
          "output_type": "execute_result",
          "data": {
            "text/plain": [
              "8.0"
            ]
          },
          "metadata": {},
          "execution_count": 23
        }
      ]
    },
    {
      "cell_type": "code",
      "source": [
        "kickdata.backers.std()"
      ],
      "metadata": {
        "colab": {
          "base_uri": "https://localhost:8080/"
        },
        "id": "mP5d9UWa4pDw",
        "outputId": "ac1d820e-8d09-491e-ca58-354800efbaec"
      },
      "execution_count": null,
      "outputs": [
        {
          "output_type": "execute_result",
          "data": {
            "text/plain": [
              "1026.3483008471453"
            ]
          },
          "metadata": {},
          "execution_count": 24
        }
      ]
    },
    {
      "cell_type": "code",
      "source": [
        "kickdata.boxplot(['backers'])"
      ],
      "metadata": {
        "colab": {
          "base_uri": "https://localhost:8080/",
          "height": 282
        },
        "id": "6SKQPmWL4tra",
        "outputId": "abe95a35-bd24-46a8-d0a9-d92abdbe3420"
      },
      "execution_count": null,
      "outputs": [
        {
          "output_type": "execute_result",
          "data": {
            "text/plain": [
              "<matplotlib.axes._subplots.AxesSubplot at 0x7f3972f1ca50>"
            ]
          },
          "metadata": {},
          "execution_count": 25
        },
        {
          "output_type": "display_data",
          "data": {
            "text/plain": [
              "<Figure size 432x288 with 1 Axes>"
            ],
            "image/png": "[encoded data removed]"
          },
          "metadata": {
            "needs_background": "light"
          }
        }
      ]
    },
    {
      "cell_type": "code",
      "source": [
        "point1 = np.array(kickdata.goal)\n",
        "point2 = np.array(kickdata.backers)\n",
        "print (\"array 1:\")\n",
        "print(point1)\n",
        "print (\"array 2:\")\n",
        "print(point2)"
      ],
      "metadata": {
        "colab": {
          "base_uri": "https://localhost:8080/"
        },
        "id": "0XOWDWUZ44QG",
        "outputId": "a2784d34-505e-47a6-f5a2-552dce24a10a"
      },
      "execution_count": null,
      "outputs": [
        {
          "output_type": "stream",
          "name": "stdout",
          "text": [
            "array 1:\n",
            "[ 15000   4500  60000 ...  10000   5500 150000]\n",
            "array 2:\n",
            "[ 46  67 204 ...   3   0   0]\n"
          ]
        }
      ]
    },
    {
      "cell_type": "code",
      "source": [
        "dist = np.linalg.norm(point1 - point2)\n"
      ],
      "metadata": {
        "id": "tt6qPfN25W7K"
      },
      "execution_count": null,
      "outputs": []
    },
    {
      "cell_type": "code",
      "source": [
        "print(\"Euclidean distance between our two arrays is:\",dist)\n"
      ],
      "metadata": {
        "colab": {
          "base_uri": "https://localhost:8080/"
        },
        "id": "zBmZPAeu5h8Z",
        "outputId": "9870cde5-1dd5-4233-fb9a-b9e1fd654f8a"
      },
      "execution_count": null,
      "outputs": [
        {
          "output_type": "stream",
          "name": "stdout",
          "text": [
            "Euclidean distance between our two arrays is: 653055188.0055668\n"
          ]
        }
      ]
    },
    {
      "cell_type": "code",
      "source": [
        "1, I Have imported requried libraries like pandas,numpy and matalabpilot.\n",
        "\n",
        "Read the CSV formated data by using the pandasfrom the github, before that the I have singup the github account with university MailID and created the repo called mandava_IT533 and pushed the dataset.\n",
        "\n",
        "With help of The shape attribute of pandas. find out the number of rows and columns.\n",
        "\n",
        "I have used print(toydata.info()) to find out the data types, From the list of attributes, I have selected two numeric attributes number_of_reviews and average_review_rating_of_5 from the given.\n",
        "\n",
        "I had calcualted the Minimum,Median,Mean,Maximum, as well as standard deviation. and I got the outputs of them.\n",
        "\n",
        "Next, using the matalabpilot panads I had boxplot the attributes.\n",
        "\n",
        "Also, I had calculated the Euclidian distance of the two attributes which are after describing all the attributes and I had printed the point 2 and point3 array which is number_of_reviews and average_review_rating_of_5 as an attributes and Euclidian distance is 3173.5915033286815\n",
        "my results will help to enhance marketing strategies and it will result from exact data for what we required. In addition, it will improve to quality and quantity of the coming trends and patterns that can be analyzed, and also my attributes will show the increased probability."
      ],
      "metadata": {
        "id": "zFbh6bJt5qx_"
      },
      "execution_count": null,
      "outputs": []
    }
  ]
}